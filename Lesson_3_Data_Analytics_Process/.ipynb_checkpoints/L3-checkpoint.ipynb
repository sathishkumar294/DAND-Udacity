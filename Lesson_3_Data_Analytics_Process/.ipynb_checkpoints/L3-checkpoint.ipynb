{
 "cells": [
  {
   "cell_type": "code",
   "execution_count": 92,
   "metadata": {
    "collapsed": true
   },
   "outputs": [],
   "source": [
    "from datetime import datetime as dt\n",
    "import unicodecsv"
   ]
  },
  {
   "cell_type": "code",
   "execution_count": 93,
   "metadata": {
    "collapsed": true
   },
   "outputs": [],
   "source": [
    "def read_csv(filename):\n",
    "    \"\"\" Function to read a CSV file and return the list of records as JSON\"\"\"\n",
    "    with open(filename, 'rb') as f:\n",
    "        reader = unicodecsv.DictReader(f)\n",
    "        return list(reader)\n",
    "\n",
    "\n",
    "def parse_date(sdate):\n",
    "    \"\"\"Function converts string to date\"\"\"\n",
    "    if sdate == '':\n",
    "        return None\n",
    "    else:\n",
    "        return dt.strptime(sdate, '%Y-%m-%d')\n",
    "\n",
    "\n",
    "def parse_int(sint):\n",
    "    \"\"\"Function to convert string to int\"\"\"\n",
    "    if sint == '':\n",
    "        return None\n",
    "    else:\n",
    "        return int(sint)\n",
    "\n",
    "\n",
    "def parse_float_int(sfloat):\n",
    "    \"\"\" Function to convert a float string to int \"\"\"\n",
    "    if sfloat == '':\n",
    "        return None\n",
    "    else:\n",
    "        return int(float(sfloat))\n",
    "\n",
    "\n",
    "def parse_float(sfloat):\n",
    "    if sfloat == '':\n",
    "        return None\n",
    "    else:\n",
    "        return float(sfloat)\n"
   ]
  },
  {
   "cell_type": "code",
   "execution_count": 94,
   "metadata": {},
   "outputs": [
    {
     "name": "stdout",
     "output_type": "stream",
     "text": [
      "Parsing enrollments...\n",
      "Parsing engagements...\n",
      "Parsing submissions...\n",
      "Done.\n"
     ]
    }
   ],
   "source": [
    "print 'Parsing enrollments...'\n",
    "enrollments = read_csv('enrollments.csv')\n",
    "print 'Parsing engagements...'\n",
    "daily_engagement = read_csv('daily_engagement.csv')\n",
    "print 'Parsing submissions...'\n",
    "project_submissions = read_csv('project_submissions.csv')\n",
    "print 'Done.'"
   ]
  },
  {
   "cell_type": "code",
   "execution_count": 95,
   "metadata": {},
   "outputs": [
    {
     "name": "stdout",
     "output_type": "stream",
     "text": [
      "Post processing enrollments...\n",
      "Post processing engagements...\n",
      "Post processing submissions...\n",
      "Done.\n"
     ]
    }
   ],
   "source": [
    "print 'Post processing enrollments...'\n",
    "enrollment_students = set()\n",
    "for enrolement in enrollments:\n",
    "    enrolement['account_key'] = parse_int(enrolement['account_key'])\n",
    "    enrolement['join_date'] = parse_date(enrolement['join_date'])\n",
    "    enrolement['cancel_date'] = parse_date(enrolement['cancel_date'])\n",
    "    enrolement['days_to_cancel'] = parse_int(enrolement['days_to_cancel'])\n",
    "    enrolement['is_udacity'] = enrolement['is_udacity'] == 'True'\n",
    "    enrolement['is_canceled'] = enrolement['is_canceled'] == 'True'\n",
    "    enrollment_students.add(enrolement['account_key'])\n",
    "\n",
    "\n",
    "print 'Post processing engagements...'\n",
    "engagement_students = set()\n",
    "for engagement in daily_engagement:\n",
    "    # harmonise the account_key key variable\n",
    "    engagement['account_key'] = parse_int(engagement['acct'])\n",
    "    engagement['utc_date'] = parse_date(engagement['utc_date'])\n",
    "    engagement['num_courses_visited'] = parse_float_int(\n",
    "        engagement['num_courses_visited'])\n",
    "    engagement['total_minutes_visited'] = parse_float(\n",
    "        engagement['total_minutes_visited'])\n",
    "    engagement['lessons_completed'] = parse_float_int(\n",
    "        engagement['lessons_completed'])\n",
    "    engagement['projects_completed'] = parse_float_int(\n",
    "        engagement['projects_completed'])\n",
    "    engagement_students.add(engagement['account_key'])\n",
    "\n",
    "print 'Post processing submissions...'\n",
    "submission_students = set()\n",
    "for submission in project_submissions:\n",
    "    submission['creation_date'] = parse_date(submission['creation_date'])\n",
    "    submission['completion_date'] = parse_date(submission['completion_date'])\n",
    "    submission['account_key'] = parse_int(submission['account_key'])\n",
    "    submission['lesson_key'] = parse_int(submission['lesson_key'])\n",
    "    submission_students.add(submission['account_key'])\n",
    "\n",
    "print 'Done.'"
   ]
  },
  {
   "cell_type": "code",
   "execution_count": 96,
   "metadata": {},
   "outputs": [
    {
     "name": "stdout",
     "output_type": "stream",
     "text": [
      "Enrolement - 1:\n",
      "{u'status': u'canceled', u'is_udacity': True, u'is_canceled': True, u'join_date': datetime.datetime(2014, 11, 10, 0, 0), u'account_key': 448, u'cancel_date': datetime.datetime(2015, 1, 14, 0, 0), u'days_to_cancel': 65}\n",
      "Engagement - 1:\n",
      "{u'lessons_completed': 0, u'num_courses_visited': 1, u'total_minutes_visited': 11.6793745, u'projects_completed': 0, 'account_key': 0, u'acct': u'0', u'utc_date': datetime.datetime(2015, 1, 9, 0, 0)}\n",
      "Submission - 1:\n",
      "{u'lesson_key': 3176718735, u'processing_state': u'EVALUATED', u'account_key': 256, u'assigned_rating': u'UNGRADED', u'completion_date': datetime.datetime(2015, 1, 16, 0, 0), u'creation_date': datetime.datetime(2015, 1, 14, 0, 0)}\n"
     ]
    }
   ],
   "source": [
    "print 'Enrolement - 1:'\n",
    "print enrollments[0]\n",
    "print 'Engagement - 1:'\n",
    "print daily_engagement[0]\n",
    "print 'Submission - 1:'\n",
    "print project_submissions[0]"
   ]
  },
  {
   "cell_type": "code",
   "execution_count": 97,
   "metadata": {},
   "outputs": [
    {
     "name": "stdout",
     "output_type": "stream",
     "text": [
      "No of enrollments:1640\n",
      "No of engagements:136240\n",
      "No of submissions:3642\n",
      "No of students enrolled: 1302\n",
      "No of students engaged: 1237\n",
      "No of students submitted: 743\n"
     ]
    }
   ],
   "source": [
    "# Replace this with your code\n",
    "enrollment_num_rows = len(enrollments)\n",
    "enrollment_num_unique_students = len(\n",
    "    enrollment_students)  # Replace this with your code\n",
    "\n",
    "# Replace this with your code\n",
    "engagement_num_rows = len(daily_engagement)\n",
    "engagement_num_unique_students = len(\n",
    "    engagement_students)  # Replace this with your code\n",
    "\n",
    "# Replace this with your code\n",
    "submission_num_rows = len(project_submissions)\n",
    "submission_num_unique_students = len(\n",
    "    submission_students)  # Replace this with your code\n",
    "\n",
    "print 'No of enrollments:{0}'.format(enrollment_num_rows)\n",
    "print 'No of engagements:{0}'.format(engagement_num_rows)\n",
    "print 'No of submissions:{0}'.format(submission_num_rows)\n",
    "print 'No of students enrolled: {0}'.format(enrollment_num_unique_students)\n",
    "print 'No of students engaged: {0}'.format(engagement_num_unique_students)\n",
    "print 'No of students submitted: {0}'.format(submission_num_unique_students)"
   ]
  },
  {
   "cell_type": "code",
   "execution_count": 98,
   "metadata": {},
   "outputs": [
    {
     "name": "stdout",
     "output_type": "stream",
     "text": [
      "A non-engaging student : {u'status': u'canceled', u'is_udacity': False, u'is_canceled': True, u'join_date': datetime.datetime(2014, 11, 12, 0, 0), u'account_key': 1219, u'cancel_date': datetime.datetime(2014, 11, 12, 0, 0), u'days_to_cancel': 0}\n"
     ]
    }
   ],
   "source": [
    "def getNonEngagements(enrollments, engagements):\n",
    "    enrolled_ids=set(student['account_key'] for student in enrollments)\n",
    "    engaged_ids=set(student['account_key'] for student in engagements)    \n",
    "    non_engaged_ids = enrolled_ids - engaged_ids    \n",
    "    return [student for student in enrollments if student['account_key'] in non_engaged_ids]\n",
    "    \n",
    "non_engagements = getNonEngagements(enrollments, daily_engagement)\n",
    "print 'A non-engaging student : {0}'.format(non_engagements[0])\n",
    "    "
   ]
  },
  {
   "cell_type": "code",
   "execution_count": 99,
   "metadata": {},
   "outputs": [
    {
     "name": "stdout",
     "output_type": "stream",
     "text": [
      "No of non-engagements: 71\n"
     ]
    }
   ],
   "source": [
    "print 'No of non-engagements: {0}'.format(len(non_engagements))"
   ]
  },
  {
   "cell_type": "code",
   "execution_count": 100,
   "metadata": {},
   "outputs": [
    {
     "name": "stdout",
     "output_type": "stream",
     "text": [
      "All Non Engaging students: \n"
     ]
    }
   ],
   "source": [
    "print 'All Non Engaging students: '\n",
    "#print non_engagements"
   ]
  },
  {
   "cell_type": "code",
   "execution_count": 101,
   "metadata": {},
   "outputs": [
    {
     "name": "stdout",
     "output_type": "stream",
     "text": [
      "Checking if all the non engaged student have cancelled...False\n"
     ]
    }
   ],
   "source": [
    "def haveAllNonEngagedStudentsCancelled(non_engaging_students_list):\n",
    "    for student in non_engaging_students_list:    \n",
    "        if not student['is_canceled']:\n",
    "            return False\n",
    "    return True\n",
    "\n",
    "print 'Checking if all the non engaged student have cancelled...{0}'.format(haveAllNonEngagedStudentsCancelled(non_engagements))\n",
    "    "
   ]
  },
  {
   "cell_type": "code",
   "execution_count": 102,
   "metadata": {
    "scrolled": true
   },
   "outputs": [
    {
     "name": "stdout",
     "output_type": "stream",
     "text": [
      "The unique values for status : set([u'current', u'canceled'])\n"
     ]
    }
   ],
   "source": [
    "status_set = set(student['status'] for student in non_engagements)\n",
    "\n",
    "print 'The unique values for status : {0}'.format(status_set)"
   ]
  },
  {
   "cell_type": "code",
   "execution_count": 103,
   "metadata": {},
   "outputs": [
    {
     "name": "stdout",
     "output_type": "stream",
     "text": [
      "Non Engaging students: set([1025, 1155, 1284, 878, 902, 1291, 654, 664, 914, 1171, 1044, 789, 1304, 802, 926, 799, 1186, 803, 1190, 1191, 1069, 1101, 817, 819, 1145, 1079, 1063, 1213, 1086, 1218, 1219, 964, 1270, 1222, 711, 968, 841, 717, 889, 1237, 1238, 727, 728, 1241, 725, 733, 997, 1120, 737, 739, 996, 1125, 870, 871, 1129, 875, 749, 750, 1010, 884, 707, 1273, 1148, 766, 981])\n"
     ]
    }
   ],
   "source": [
    "non_engaging_students = set(student['account_key'] for student in non_engagements)\n",
    "\n",
    "print 'Non Engaging students: {0}'.format(non_engaging_students)"
   ]
  },
  {
   "cell_type": "code",
   "execution_count": 104,
   "metadata": {},
   "outputs": [
    {
     "name": "stdout",
     "output_type": "stream",
     "text": [
      "No of non-engaging students: 65\n"
     ]
    }
   ],
   "source": [
    "print 'No of non-engaging students: {0}'.format(len(non_engaging_students))"
   ]
  },
  {
   "cell_type": "code",
   "execution_count": 105,
   "metadata": {},
   "outputs": [
    {
     "name": "stdout",
     "output_type": "stream",
     "text": [
      "No of students who cancelled on the same day: 63\n"
     ]
    }
   ],
   "source": [
    "students_cancelled_same_day = [student for student in non_engagements if student['days_to_cancel']==0]\n",
    "unique_students_cancelled_same_day = set(student['account_key'] for student in students_cancelled_same_day)\n",
    "print 'No of students who cancelled on the same day: {0}'.format(len(unique_students_cancelled_same_day))"
   ]
  },
  {
   "cell_type": "code",
   "execution_count": 106,
   "metadata": {},
   "outputs": [
    {
     "name": "stdout",
     "output_type": "stream",
     "text": [
      "No of students who took atleast 1 day to cancel: 1\n"
     ]
    }
   ],
   "source": [
    "students_cancelled_after_1day = [student for student in non_engagements if student['days_to_cancel']>0]\n",
    "unique_students_cancelled_after_1day = set(student['account_key'] for student in students_cancelled_after_1day)\n",
    "print 'No of students who took atleast 1 day to cancel: {0}'.format(len(unique_students_cancelled_after_1day))"
   ]
  },
  {
   "cell_type": "code",
   "execution_count": 107,
   "metadata": {},
   "outputs": [
    {
     "name": "stdout",
     "output_type": "stream",
     "text": [
      "No of non engagements with at least 1 day before cancel: 2\n"
     ]
    }
   ],
   "source": [
    "print 'No of non engagements with at least 1 day before cancel: {0}'.format(len(students_cancelled_after_1day))"
   ]
  },
  {
   "cell_type": "code",
   "execution_count": 108,
   "metadata": {},
   "outputs": [
    {
     "name": "stdout",
     "output_type": "stream",
     "text": [
      "No of non_engagments with non-zero days to cancel or not cancelled yet: 3\n"
     ]
    }
   ],
   "source": [
    "print 'No of non_engagments with non-zero days to cancel or not cancelled yet: {0}'.format(len([student for student in non_engagements if (student['days_to_cancel']>0 or student['days_to_cancel'] == None)]))"
   ]
  },
  {
   "cell_type": "code",
   "execution_count": 109,
   "metadata": {},
   "outputs": [
    {
     "name": "stdout",
     "output_type": "stream",
     "text": [
      "No of udacity accounts: 6\n",
      "No of paid enrollments: 1622\n",
      "No of paid engagments: 135656\n",
      "No of paid submissions: 3634\n"
     ]
    }
   ],
   "source": [
    "udacity_ids = set(student['account_key'] for student in enrollments if student['is_udacity'])\n",
    "print 'No of udacity accounts: {0}'.format(len(udacity_ids))\n",
    "\n",
    "def remove_udacity_ids(sourcelist):\n",
    "    return [student for student in sourcelist if student['account_key'] not in udacity_ids]\n",
    "\n",
    "non_udacity_enrollments = remove_udacity_ids(enrollments)\n",
    "non_udacity_engagements=remove_udacity_ids(daily_engagement)\n",
    "non_udacity_submissions=remove_udacity_ids(project_submissions)\n",
    "\n",
    "print 'No of paid enrollments: {0}'.format(len(non_udacity_enrollments))\n",
    "print 'No of paid engagments: {0}'.format(len(non_udacity_engagements))\n",
    "print 'No of paid submissions: {0}'.format(len(non_udacity_submissions))\n",
    "    "
   ]
  },
  {
   "cell_type": "code",
   "execution_count": 110,
   "metadata": {},
   "outputs": [
    {
     "name": "stdout",
     "output_type": "stream",
     "text": [
      "No of students who have not cancelled yet or stayed for more than 7 days: 995\n"
     ]
    }
   ],
   "source": [
    "# Students who have not cancelled yet or stayed for more than 7 days\n",
    "'''\n",
    "super_engaged_students_ids = set(student['account_key'] for student in non_udacity_enrollments if student['days_to_cancel'] >7 or student['days_to_cancel'] is None)\n",
    "paid_students = {}\n",
    "super_engaged_students = [student for student in non_udacity_enrollments if student['account_key'] in super_engaged_students_ids]\n",
    "for student in non_udacity_enrollments:\n",
    "    thiskey = student['account_key']\n",
    "    if thiskey in super_engaged_students_ids:\n",
    "        thisJoindate = student['join_date']\n",
    "        if thiskey in paid_students.keys():                \n",
    "            if thisJoindate > paid_students[thiskey]:\n",
    "                paid_students[thiskey] = thisJoindate\n",
    "        else:\n",
    "            paid_students[thiskey] = thisJoindate\n",
    "'''        \n",
    "\n",
    "# The above code does not consider the case where a student has enrolled for a month and later re-joins a course and cancels \n",
    "# it yet again within a week. His engagement case to consider is the month long engagement, not just the latest engagement.\n",
    "# The condition on the days to cancel and latest valid join date should be considered simultanously. \n",
    "# Thanks to Caroline, instructor for explaining the issue.\n",
    "# Ref: https://discussions.udacity.com/t/getting-data-from-first-week-wrong-number-of-students/38153/6\n",
    "\n",
    "paid_students={}\n",
    "for enrollement in non_udacity_enrollments:\n",
    "    thiskey = enrollement['account_key']\n",
    "    if enrollement['days_to_cancel'] > 7 or enrollement['days_to_cancel'] is None:\n",
    "        thisJoindate = enrollement['join_date']\n",
    "        if thiskey not in paid_students or thisJoindate > paid_students[thiskey]:\n",
    "            paid_students[thiskey] = thisJoindate\n",
    "\n",
    "print 'No of students who have not cancelled yet or stayed for more than 7 days: {0}'.format(len(paid_students))\n"
   ]
  },
  {
   "cell_type": "code",
   "execution_count": 111,
   "metadata": {},
   "outputs": [
    {
     "name": "stdout",
     "output_type": "stream",
     "text": [
      "No of paid enrollments: 1293\n",
      "No of paid engagements: 134549\n",
      "No of paid submissions: 3618\n"
     ]
    }
   ],
   "source": [
    "# Find the no of engagement of the above selected students\n",
    "\n",
    "def getPaidDataOnly(sourcelist):\n",
    "    return [student for student in sourcelist if student['account_key'] in paid_students]\n",
    "\n",
    "paid_enrollements = getPaidDataOnly(non_udacity_enrollments)\n",
    "paid_engagements = getPaidDataOnly(non_udacity_engagements)\n",
    "paid_submissions = getPaidDataOnly(non_udacity_submissions)\n",
    "\n",
    "print 'No of paid enrollments: {0}'.format(len(paid_enrollements))\n",
    "print 'No of paid engagements: {0}'.format(len(paid_engagements))\n",
    "print 'No of paid submissions: {0}'.format(len(paid_submissions))\n",
    "\n",
    "\n"
   ]
  },
  {
   "cell_type": "code",
   "execution_count": 134,
   "metadata": {},
   "outputs": [
    {
     "name": "stdout",
     "output_type": "stream",
     "text": [
      "No of engagements within first week: 6919\n"
     ]
    }
   ],
   "source": [
    "def isEngagementWithOneWeek(joindate, engagementdate):\n",
    "    delta = engagementdate - joindate\n",
    "    # Update check if the no of days is greater than zero to eliminate engagements before this joining date\n",
    "    return delta.days < 7 and delta.days >= 0\n",
    "\n",
    "engagement_within_one_week = []\n",
    "for engagement in paid_engagements:\n",
    "    thiskey = engagement['account_key']    \n",
    "    thisJoindate = paid_students[thiskey]\n",
    "    thisEngagementdate = engagement['utc_date']\n",
    "    if isEngagementWithOneWeek(thisJoindate, thisEngagementdate):\n",
    "        engagement_within_one_week.append(engagement)\n",
    "\n",
    "#engagement_of_super_engaged = [engagement for engagement in non_udacity_engagements if engagement['account_key'] in paid_students.keys() and isEngagementWithOneWeek(paid_students[engagement['account_key']],engagement['utc_date'])]\n",
    "print 'No of engagements within first week: {0}'.format(len(engagement_within_one_week))"
   ]
  },
  {
   "cell_type": "code",
   "execution_count": 135,
   "metadata": {},
   "outputs": [
    {
     "name": "stdout",
     "output_type": "stream",
     "text": [
      "Just checking if the data is okay...\n",
      "2015-03-05 00:00:00\n",
      "2015-05-11 00:00:00\n",
      "2015-04-08 00:00:00\n",
      "2015-01-16 00:00:00\n",
      "2015-03-10 00:00:00\n",
      "OK.\n"
     ]
    }
   ],
   "source": [
    "print 'Just checking if the data is okay...'\n",
    "list_of_accounts = [348, 590, 1124, 1139, 106]\n",
    "for account_key in list_of_accounts:\n",
    "    join_date = paid_students[account_key]\n",
    "    print join_date\n",
    "print 'OK.'"
   ]
  },
  {
   "cell_type": "code",
   "execution_count": 148,
   "metadata": {},
   "outputs": [],
   "source": [
    "from collections import defaultdict\n",
    "import numpy as np\n",
    "\n",
    "'''Function to group a list based on a field'''\n",
    "def group_by_field(sourceList, fieldname):\n",
    "    groupedDict = defaultdict(list)\n",
    "    for data in sourceList:\n",
    "        key = data[fieldname]\n",
    "        groupedDict[key].append(data)\n",
    "    return groupedDict\n",
    "\n",
    "'''Function to get a list of values from the grouped data'''\n",
    "def get_totaled_data_by_field(groupedDict,field_to_analyse):\n",
    "    total_by_field = {}\n",
    "    for key, listEngagements in groupedDict.items():\n",
    "        total_by_field[key] = np.sum([engagement[field_to_analyse] for engagement in listEngagements])    \n",
    "    return total_by_field\n",
    "\n",
    "'''Function to print the statistics of grouped & totalled data'''\n",
    "def get_Stats(totalled_data_by_field, field_to_analyse):\n",
    "    totalValues = totalled_data_by_field.values();\n",
    "    print \"\\n\"\n",
    "    print \"-\"*40\n",
    "    print \"Total \", field_to_analyse,\" by all students: {0}\".format(np.sum(totalValues))\n",
    "    print \"No of students: \", len(totalValues)\n",
    "    print \"Mean : \", np.mean(totalValues)\n",
    "    print \"Std Deviation : \", np.std(totalValues)\n",
    "    print \"Min : \", np.min(totalValues)\n",
    "    print \"Max : \", np.max(totalValues)\n",
    "    print \"-\"*40    \n",
    "    \n",
    "#print \"FYI, the total no of minutes in a week: \", 7*24*60"
   ]
  },
  {
   "cell_type": "code",
   "execution_count": 149,
   "metadata": {
    "collapsed": true
   },
   "outputs": [],
   "source": [
    "engagements_by_account = group_by_field(engagement_within_one_week, 'account_key')"
   ]
  },
  {
   "cell_type": "code",
   "execution_count": 150,
   "metadata": {},
   "outputs": [
    {
     "name": "stdout",
     "output_type": "stream",
     "text": [
      "\n",
      "\n",
      "----------------------------------------\n",
      "Total  total minutes visited  by all students: 305174.78512\n",
      "No of students:  995\n",
      "Mean :  306.708326753\n",
      "Std Deviation :  412.996933409\n",
      "Min :  0.0\n",
      "Max :  3564.7332645\n",
      "----------------------------------------\n"
     ]
    }
   ],
   "source": [
    "total_minutes_by_account = get_totaled_data_by_field(engagements_by_account, 'total_minutes_visited')\n",
    "get_Stats(total_minutes_by_account, 'total minutes visited')"
   ]
  },
  {
   "cell_type": "code",
   "execution_count": 151,
   "metadata": {},
   "outputs": [
    {
     "name": "stdout",
     "output_type": "stream",
     "text": [
      "\n",
      "\n",
      "----------------------------------------\n",
      "Total  lessons completed  by all students: 1628\n",
      "No of students:  995\n",
      "Mean :  1.63618090452\n",
      "Std Deviation :  3.00256129983\n",
      "Min :  0\n",
      "Max :  36\n",
      "----------------------------------------\n"
     ]
    }
   ],
   "source": [
    "total_lessons_by_account=get_totaled_data_by_field(engagements_by_account, 'lessons_completed')\n",
    "get_Stats(total_lessons_by_account, 'lessons completed')"
   ]
  },
  {
   "cell_type": "code",
   "execution_count": 152,
   "metadata": {},
   "outputs": [],
   "source": [
    "# Find all students where the total minutes engagement in a week is greater than 10080 (total minutes in a week)\n",
    "surprising_engagement_students = set(key  for key,value in total_minutes_by_account.items() if value > 10080)\n",
    "for key in surprising_engagement_students:    \n",
    "    surp_student_engagement = engagements_by_account[key]\n",
    "    print \"Account: {k}, Join date={d}\".format(k=key, d=paid_students[key])\n",
    "    for engagement  in surp_student_engagement:\n",
    "        print engagement['utc_date'], engagement['total_minutes_visited'], engagement['num_courses_visited']\n",
    "\n",
    "# Even if the student has taken more than one course, his total engagement cannot be still greater than 10080. \n",
    "# The problem is that the function within one week, just checks if the engagement date is atmost 7 days after join date, \n",
    "# it does check if the engagement date is after the join date. This is the case when a student joins and cancels after 7 days \n",
    "# (so that this join date becomes the reference join date for the student) and joins again and cancells within a week. \n",
    "# All the engagements before the join date is also considered in that case as the delta.days is negative. \n",
    "# So to consider only the engagements within one week after joining, we have to add one more condition that delta.days > 0"
   ]
  },
  {
   "cell_type": "code",
   "execution_count": 154,
   "metadata": {},
   "outputs": [
    {
     "name": "stdout",
     "output_type": "stream",
     "text": [
      "\n",
      "\n",
      "----------------------------------------\n",
      "Total  No of days  by all students: 2853\n",
      "No of students:  995\n",
      "Mean :  2.86733668342\n",
      "Std Deviation :  2.25519800292\n",
      "Min :  0\n",
      "Max :  7\n",
      "----------------------------------------\n"
     ]
    }
   ],
   "source": [
    "# Find the statistics for the number of days the student was engaged in a week.\n",
    "# Any engagement with at least one num_courses_visited is the desired engagement\n",
    "for key, engagement_list in engagements_by_account.items():\n",
    "    for engagement in engagement_list:\n",
    "        engagement['has_visited'] = int(engagement['num_courses_visited'] > 0)\n",
    "\n",
    "total_no_of_days_by_account = get_totaled_data_by_field(engagements_by_account, 'has_visited')\n",
    "get_Stats(total_no_of_days_by_account, 'No of days')"
   ]
  },
  {
   "cell_type": "code",
   "execution_count": 174,
   "metadata": {},
   "outputs": [
    {
     "name": "stdout",
     "output_type": "stream",
     "text": [
      "set([u'', u'DISTINCTION', u'UNGRADED', u'PASSED', u'INCOMPLETE'])\n",
      "No of passing students:  647\n",
      "No of passing engagements:  4527\n",
      "No of non-passing engagements:  2392\n"
     ]
    }
   ],
   "source": [
    "## Create two lists of engagement data for paid students in the first week.\n",
    "## The first list should contain data for students who eventually pass the\n",
    "## subway project, and the second list should contain data for students\n",
    "## who do not.\n",
    "subway_project_lesson_keys = [746169184,3176718735]\n",
    "\n",
    "print set(submission['assigned_rating'] for submission in paid_submissions)\n",
    "\n",
    "def get_students_by_submission_status(statuslist):\n",
    "    return set(submission['account_key'] for submission in paid_submissions \\\n",
    "            if submission['lesson_key'] in subway_project_lesson_keys and \\\n",
    "               submission['assigned_rating'] in statuslist)\n",
    "\n",
    "passing_students = get_students_by_submission_status(['DISTINCTION','PASSED'])\n",
    "print 'No of passing students: ', len(passing_students)\n",
    "\n",
    "passing_engagement = []\n",
    "non_passing_engagement= []\n",
    "for engagement in engagement_within_one_week:\n",
    "    if engagement['account_key'] in passing_students:\n",
    "        passing_engagement.append(engagement)\n",
    "    else:\n",
    "        non_passing_engagement.append(engagement)                     \n",
    "\n",
    "print 'No of passing engagements: ', len(passing_engagement)\n",
    "print 'No of non-passing engagements: ', len(non_passing_engagement)\n"
   ]
  }
 ],
 "metadata": {
  "kernelspec": {
   "display_name": "Python [conda env:L3DAP]",
   "language": "python",
   "name": "conda-env-L3DAP-py"
  }
 },
 "nbformat": 4,
 "nbformat_minor": 2
}
